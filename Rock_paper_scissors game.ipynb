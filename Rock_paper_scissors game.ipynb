{
  "nbformat": 4,
  "nbformat_minor": 0,
  "metadata": {
    "colab": {
      "provenance": []
    },
    "kernelspec": {
      "name": "python3",
      "display_name": "Python 3"
    },
    "language_info": {
      "name": "python"
    }
  },
  "cells": [
    {
      "cell_type": "code",
      "execution_count": null,
      "metadata": {
        "colab": {
          "base_uri": "https://localhost:8080/"
        },
        "id": "kg5t5kk_M_AZ",
        "outputId": "fbfc0e42-0588-4822-89ef-92a457551523"
      },
      "outputs": [
        {
          "output_type": "stream",
          "name": "stdout",
          "text": [
            "Let's play rock, paper, scissors 10 times!\n",
            "Please take one of the following values: rock, paper, scissors rock\n",
            "The computer chooses scissors\n",
            "You win!\n",
            "You have 1 wins, 0 ties and 0 losses.\n",
            "Please take one of the following values: rock, paper, scissors paper\n",
            "The computer chooses paper\n",
            "Tie!\n",
            "You have 1 wins, 1 ties and 0 losses.\n",
            "Please take one of the following values: rock, paper, scissors scissors\n",
            "The computer chooses rock\n",
            "You lose!\n",
            "You have 1 wins, 1 ties and 1 losses.\n"
          ]
        }
      ],
      "source": [
        "import random\n",
        "\n",
        "#create rock/paper/scissors yourself\n",
        "\n",
        "print(\"Let's play rock, paper, scissors 10 times!\")\n",
        "number_of_times_played = 0\n",
        "wins = 0\n",
        "ties = 0\n",
        "losses = 0\n",
        "\n",
        "while number_of_times_played < 10:\n",
        "  possible_values = ['rock', 'paper', 'scissors']\n",
        "  values = \"rock, paper, scissors\"\n",
        "\n",
        "  user_choice = input(f\"Please take one of the following values: {values} \")\n",
        "\n",
        "  if user_choice != \"rock\" and user_choice != \"paper\" and user_choice != \"scissors\":\n",
        "    print(\"Wrong value given as an input\")\n",
        "    quit()\n",
        "  computer_choice = random.choice(possible_values)\n",
        "  print(f\"The computer chooses {computer_choice}\")\n",
        "\n",
        "  if (user_choice == \"rock\" and computer_choice == \"scissors\") or (user_choice == \"scissors\" and computer_choice == \"paper\") or (user_choice == \"paper\" and computer_choice == \"rock\"):\n",
        "    print(\"You win!\")\n",
        "    wins += 1\n",
        "  elif user_choice == computer_choice:\n",
        "    print(\"Tie!\")\n",
        "    ties += 1\n",
        "  else:\n",
        "    print(\"You lose!\")\n",
        "    losses += 1\n",
        "\n",
        "  number_of_times_played += 1\n",
        "  print(f\"You have {wins} wins, {ties} ties and {losses} losses.\")\n",
        "input('Press ENTER to exit')\n",
        "import random\n",
        "\n",
        "\n",
        "#create rock/paper/scissors yourself\n",
        "\n",
        "\n",
        "print(\"Let's play rock, paper, scissors 10 times!\")\n",
        "number_of_times_played = 0\n",
        "wins = 0\n",
        "ties = 0\n",
        "losses = 0\n",
        "\n",
        "\n",
        "while number_of_times_played < 10:\n",
        "  possible_values = ['rock', 'paper', 'scissors']\n",
        "  values = \"rock, paper, scissors\"\n",
        "\n",
        "\n",
        "  user_choice = input(f\"Please take one of the following values: {values} \")\n",
        "\n",
        "\n",
        "  if user_choice != \"rock\" and user_choice != \"paper\" and user_choice != \"scissors\":\n",
        "    print(\"Wrong value given as an input\")\n",
        "    quit()\n",
        "  computer_choice = random.choice(possible_values)\n",
        "  print(f\"The computer chooses {computer_choice}\")\n",
        "\n",
        "\n",
        "  if (user_choice == \"rock\" and computer_choice == \"scissors\") or (user_choice == \"scissors\" and computer_choice == \"paper\") or (user_choice == \"paper\" and computer_choice == \"rock\"):\n",
        "    print(\"You win!\")\n",
        "    wins += 1\n",
        "  elif user_choice == computer_choice:\n",
        "    print(\"Tie!\")\n",
        "    ties += 1\n",
        "  else:\n",
        "    print(\"You lose!\")\n",
        "    losses += 1\n",
        "\n",
        "\n",
        "  number_of_times_played += 1\n",
        "  print(f\"You have {wins} wins, {ties} ties and {losses} losses.\")\n",
        "input('Press ENTER to exit')"
      ]
    },
    {
      "cell_type": "code",
      "source": [],
      "metadata": {
        "id": "NAL7A4fcNGTl"
      },
      "execution_count": null,
      "outputs": []
    }
  ]
}